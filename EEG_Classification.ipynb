{
  "nbformat": 4,
  "nbformat_minor": 0,
  "metadata": {
    "colab": {
      "provenance": [],
      "gpuType": "T4",
      "mount_file_id": "1epehh287aD6T9igiG5-Thc_0FNbJnbd9",
      "authorship_tag": "ABX9TyMBugJbe0ailU3WgpLz8EwD",
      "include_colab_link": true
    },
    "kernelspec": {
      "name": "python3",
      "display_name": "Python 3"
    },
    "language_info": {
      "name": "python"
    },
    "accelerator": "GPU"
  },
  "cells": [
    {
      "cell_type": "markdown",
      "metadata": {
        "id": "view-in-github",
        "colab_type": "text"
      },
      "source": [
        "<a href=\"https://colab.research.google.com/github/AgnelFernando/BCI_UR3/blob/main/EEG_Classification.ipynb\" target=\"_parent\"><img src=\"https://colab.research.google.com/assets/colab-badge.svg\" alt=\"Open In Colab\"/></a>"
      ]
    },
    {
      "cell_type": "code",
      "execution_count": 1,
      "metadata": {
        "colab": {
          "base_uri": "https://localhost:8080/"
        },
        "id": "r3IeCPJcq0Tm",
        "outputId": "6fe8536f-1294-4368-ffb4-2bbe5b725db9"
      },
      "outputs": [
        {
          "output_type": "stream",
          "name": "stdout",
          "text": [
            "Requirement already satisfied: numpy in /usr/local/lib/python3.11/dist-packages (2.0.2)\n",
            "Requirement already satisfied: scipy in /usr/local/lib/python3.11/dist-packages (1.16.0)\n",
            "Requirement already satisfied: pandas in /usr/local/lib/python3.11/dist-packages (2.2.2)\n",
            "Requirement already satisfied: scikit-learn in /usr/local/lib/python3.11/dist-packages (1.6.1)\n",
            "Requirement already satisfied: python-dateutil>=2.8.2 in /usr/local/lib/python3.11/dist-packages (from pandas) (2.9.0.post0)\n",
            "Requirement already satisfied: pytz>=2020.1 in /usr/local/lib/python3.11/dist-packages (from pandas) (2025.2)\n",
            "Requirement already satisfied: tzdata>=2022.7 in /usr/local/lib/python3.11/dist-packages (from pandas) (2025.2)\n",
            "Requirement already satisfied: joblib>=1.2.0 in /usr/local/lib/python3.11/dist-packages (from scikit-learn) (1.5.1)\n",
            "Requirement already satisfied: threadpoolctl>=3.1.0 in /usr/local/lib/python3.11/dist-packages (from scikit-learn) (3.6.0)\n",
            "Requirement already satisfied: six>=1.5 in /usr/local/lib/python3.11/dist-packages (from python-dateutil>=2.8.2->pandas) (1.17.0)\n"
          ]
        }
      ],
      "source": [
        "pip install numpy scipy pandas scikit-learn"
      ]
    },
    {
      "cell_type": "code",
      "source": [
        "import os\n",
        "import numpy as np\n",
        "import pandas as pd\n",
        "from scipy.signal import butter, filtfilt\n",
        "\n",
        "import torch\n",
        "import torch.nn as nn\n",
        "from torch.utils.data import Dataset, DataLoader\n",
        "import torch.optim as optim\n",
        "\n",
        "from sklearn.model_selection import train_test_split\n",
        "from sklearn.metrics import accuracy_score\n",
        "from sklearn.preprocessing import StandardScaler\n",
        "\n",
        "import matplotlib.pyplot as plt"
      ],
      "metadata": {
        "id": "9XYKO9Y-tTzS"
      },
      "execution_count": 2,
      "outputs": []
    },
    {
      "cell_type": "markdown",
      "source": [
        "# Data Preparation"
      ],
      "metadata": {
        "id": "FvgL2TLLfoGV"
      }
    },
    {
      "cell_type": "code",
      "source": [
        "left_channels = pd.read_csv(\"/content/drive/MyDrive/OpenBCI/left/left_2025-07-15_13:55:21.csv\")"
      ],
      "metadata": {
        "id": "UG_ano2kfsx4"
      },
      "execution_count": 4,
      "outputs": []
    },
    {
      "cell_type": "code",
      "source": [
        "import matplotlib.pyplot as plt\n",
        "\n",
        "# Plot 5 seconds from channel 0\n",
        "channel = 12\n",
        "start, end = 0, 50 * 250  # 5 sec at 250Hz\n",
        "plt.plot(left_channels.iloc[start:end, channel])\n",
        "plt.title(f\"Channel {channel} - Raw EEG (Time Domain)\")\n",
        "plt.xlabel(\"Sample\")\n",
        "plt.ylabel(\"Voltage (µV)\")\n",
        "plt.show()"
      ],
      "metadata": {
        "colab": {
          "base_uri": "https://localhost:8080/",
          "height": 472
        },
        "id": "DZqAkW-zfn2i",
        "outputId": "2bbfd9d3-94f8-4249-c8d1-d383df094f9b"
      },
      "execution_count": 5,
      "outputs": [
        {
          "output_type": "display_data",
          "data": {
            "text/plain": [
              "<Figure size 640x480 with 1 Axes>"
            ],
            "image/png": "[encoded data removed]"
          },
          "metadata": {}
        }
      ]
    },
    {
      "cell_type": "code",
      "source": [
        "print(left_channels.describe())"
      ],
      "metadata": {
        "colab": {
          "base_uri": "https://localhost:8080/"
        },
        "id": "H4tDaVJbgoT3",
        "outputId": "a59eeacb-9afc-4b25-8b6d-5088365bd752"
      },
      "execution_count": 17,
      "outputs": [
        {
          "output_type": "stream",
          "name": "stdout",
          "text": [
            "                Ch1           Ch2           Ch3           Ch4            Ch5  \\\n",
            "count  8.772000e+03  8.772000e+03  8.772000e+03  8.772000e+03    8772.000000   \n",
            "mean   1.562138e+06  1.674150e+06 -3.115515e+06 -2.605351e+06 -679734.602371   \n",
            "std    1.176162e+05  1.340184e+05  1.450689e+05  1.363386e+05  139818.683414   \n",
            "min    6.821510e+05  6.906980e+05 -3.357939e+06 -2.836053e+06 -904863.000000   \n",
            "25%    1.434759e+06  1.581650e+06 -3.278668e+06 -2.759904e+06 -839687.750000   \n",
            "50%    1.576258e+06  1.687330e+06 -3.096152e+06 -2.586717e+06 -663463.500000   \n",
            "75%    1.677874e+06  1.800837e+06 -2.988300e+06 -2.486549e+06 -557333.750000   \n",
            "max    1.735609e+06  1.841170e+06 -1.677870e+06 -1.417388e+06 -448183.000000   \n",
            "\n",
            "                Ch6           Ch7           Ch8            Ch9          Ch10  \\\n",
            "count  8.772000e+03  8.772000e+03  8.772000e+03    8772.000000  8.772000e+03   \n",
            "mean  -1.167615e+06  8.388129e+06 -1.504089e+06 -643033.442202 -8.388130e+06   \n",
            "std    1.273600e+05  4.478273e+04  1.337706e+05  193106.627786  4.478273e+04   \n",
            "min   -1.376010e+06  4.194303e+06 -1.728052e+06 -972400.000000 -8.388608e+06   \n",
            "25%   -1.315923e+06  8.388607e+06 -1.660787e+06 -825340.750000 -8.388608e+06   \n",
            "50%   -1.153128e+06  8.388607e+06 -1.487782e+06 -644450.000000 -8.388608e+06   \n",
            "75%   -1.056688e+06  8.388607e+06 -1.385898e+06 -435379.750000 -8.388608e+06   \n",
            "max   -6.874600e+05  8.388607e+06 -8.628850e+05 -382455.000000 -4.194304e+06   \n",
            "\n",
            "                Ch11          Ch12          Ch13           Ch14          Ch15  \\\n",
            "count    8772.000000  8.772000e+03  8.772000e+03    8772.000000  8.772000e+03   \n",
            "mean   675194.517442  1.351904e+06  8.388129e+06 -435560.992362 -1.140316e+06   \n",
            "std    154608.374798  2.657271e+05  4.478273e+04  138846.400461  1.211255e+05   \n",
            "min   -150352.000000  2.208550e+05  4.194303e+06 -665715.000000 -1.344841e+06   \n",
            "25%    513381.500000  1.115904e+06  8.388607e+06 -594374.750000 -1.280644e+06   \n",
            "50%    700909.500000  1.335972e+06  8.388607e+06 -419559.000000 -1.124202e+06   \n",
            "75%    811150.250000  1.586745e+06  8.388607e+06 -314800.750000 -1.036102e+06   \n",
            "max    902877.000000  1.775968e+06  8.388607e+06 -203372.000000 -9.385650e+05   \n",
            "\n",
            "                Ch16  \n",
            "count    8772.000000  \n",
            "mean   -83950.346785  \n",
            "std    103004.223946  \n",
            "min   -450684.000000  \n",
            "25%   -207321.750000  \n",
            "50%    -65375.000000  \n",
            "75%      8271.000000  \n",
            "max     73653.000000  \n"
          ]
        }
      ]
    },
    {
      "cell_type": "markdown",
      "source": [
        "### Power Spectral Density (PSD) Analysis"
      ],
      "metadata": {
        "id": "B9UL1zHfg6yU"
      }
    },
    {
      "cell_type": "code",
      "source": [
        "import pandas as pd\n",
        "import matplotlib.pyplot as plt\n",
        "from scipy.signal import welch\n",
        "\n",
        "def plot_psd(df):\n",
        "  fs = 250\n",
        "  eeg_data = df.iloc[:, :16]\n",
        "\n",
        "  plt.figure(figsize=(10, 6))\n",
        "  for ch in range(eeg_data.shape[1]):\n",
        "      f, Pxx = welch(eeg_data.iloc[:, ch], fs=fs, nperseg=512)\n",
        "      plt.semilogy(f, Pxx, label=f\"Ch {ch}\")\n",
        "\n",
        "  plt.title(\"Power Spectral Density (All 16 Channels)\")\n",
        "  plt.xlabel(\"Frequency (Hz)\")\n",
        "  plt.ylabel(\"Power Spectral Density\")\n",
        "  plt.xlim(0, 50)  # EEG relevant range\n",
        "  plt.grid(True)\n",
        "  plt.legend(ncol=4, fontsize=8)\n",
        "  plt.tight_layout()\n",
        "  plt.show()\n"
      ],
      "metadata": {
        "id": "Cag4I1f3g8P4"
      },
      "execution_count": 6,
      "outputs": []
    },
    {
      "cell_type": "code",
      "source": [
        "# Left channels\n",
        "\n",
        "left_channels = pd.read_csv(\"/content/drive/MyDrive/OpenBCI/left/left_2025-07-15_13:20:42.csv\")\n",
        "plot_psd(left_channels)"
      ],
      "metadata": {
        "id": "Va1uqoSViXlg"
      },
      "execution_count": null,
      "outputs": []
    },
    {
      "cell_type": "code",
      "source": [
        "# Right channels\n",
        "\n",
        "right_channels = pd.read_csv(\"/content/drive/MyDrive/OpenBCI/right/right_2025-07-15_13:52:29.csv\")\n",
        "plot_psd(right_channels)"
      ],
      "metadata": {
        "colab": {
          "base_uri": "https://localhost:8080/",
          "height": 607
        },
        "id": "Og1Q0I6himFo",
        "outputId": "5c1c8efb-fd0e-425d-bc02-3b3464687040"
      },
      "execution_count": 29,
      "outputs": [
        {
          "output_type": "display_data",
          "data": {
            "text/plain": [
              "<Figure size 1000x600 with 1 Axes>"
            ],
            "image/png": "[encoded data removed]"
          },
          "metadata": {}
        }
      ]
    },
    {
      "cell_type": "code",
      "source": [
        "SAMPLING_RATE = 250\n",
        "WINDOW_SIZE = SAMPLING_RATE * 1\n",
        "STRIDE = SAMPLING_RATE // 2\n",
        "BANDPASS_LOW = 1\n",
        "BANDPASS_HIGH = 40"
      ],
      "metadata": {
        "id": "urdNrX-ItcTV"
      },
      "execution_count": 8,
      "outputs": []
    },
    {
      "cell_type": "code",
      "source": [
        "def bandpass_filter(data, low, high, fs):\n",
        "    b, a = butter(N=4, Wn=[low / (fs/2), high / (fs/2)], btype='band')\n",
        "    return filtfilt(b, a, data, axis=0)\n",
        "\n",
        "def segment_windows(data, window_size, stride):\n",
        "    windows = []\n",
        "    for start in range(0, data.shape[0] - window_size + 1, stride):\n",
        "        end = start + window_size\n",
        "        windows.append(data[start:end])\n",
        "    return np.stack(windows)\n",
        "\n",
        "def preprocess_file(file_path, label):\n",
        "    df = pd.read_csv(file_path)\n",
        "    eeg_data = df.iloc[:, :16].drop(df.columns[11], axis=1).values\n",
        "\n",
        "    filtered = bandpass_filter(eeg_data, BANDPASS_LOW, BANDPASS_HIGH, SAMPLING_RATE)\n",
        "\n",
        "    scaler = StandardScaler()\n",
        "    normalized = scaler.fit_transform(filtered)\n",
        "\n",
        "    windows = segment_windows(normalized, WINDOW_SIZE, STRIDE)\n",
        "    labels = np.full((len(windows),), label)\n",
        "\n",
        "    return windows, labels\n",
        "\n",
        "task_to_label = {'left': 0, 'right': 1, 'up': 2, 'down': 3}\n",
        "\n",
        "def process_dataset(data_dir):\n",
        "    all_X, all_y = [], []\n",
        "    for task in os.listdir(data_dir):\n",
        "      for file in os.listdir(data_dir + \"/\" + task):\n",
        "        if file.endswith('.csv'):\n",
        "            file_path = os.path.join(data_dir, task, file)\n",
        "            label = task_to_label[task]\n",
        "            X, y = preprocess_file(file_path, label)\n",
        "            all_X.append(X)\n",
        "            all_y.append(y)\n",
        "\n",
        "    X = np.concatenate(all_X, axis=0)\n",
        "    y = np.concatenate(all_y, axis=0)\n",
        "    return X, y"
      ],
      "metadata": {
        "id": "Yq-dVMEftIlu"
      },
      "execution_count": 9,
      "outputs": []
    },
    {
      "cell_type": "code",
      "source": [
        "data_dir = '/content/drive/MyDrive/OpenBCI'\n",
        "X, y = process_dataset(data_dir)\n",
        "\n",
        "print(f\"Shape of X: {X.shape}\")\n",
        "print(f\"Shape of y: {y.shape}\")"
      ],
      "metadata": {
        "colab": {
          "base_uri": "https://localhost:8080/"
        },
        "id": "weioSsEruBza",
        "outputId": "2685f3d6-ec11-4b7b-ced3-c91f9e2b2459"
      },
      "execution_count": 10,
      "outputs": [
        {
          "output_type": "stream",
          "name": "stdout",
          "text": [
            "Shape of X: (518, 250, 15)\n",
            "Shape of y: (518,)\n"
          ]
        }
      ]
    },
    {
      "cell_type": "code",
      "source": [
        "class EEGDataset(Dataset):\n",
        "    def __init__(self, X, y):\n",
        "        self.X = torch.tensor(X, dtype=torch.float32)\n",
        "        self.y = torch.tensor(y, dtype=torch.long)\n",
        "\n",
        "    def __len__(self):\n",
        "        return len(self.X)\n",
        "\n",
        "    def __getitem__(self, idx):\n",
        "        return self.X[idx].T, self.y[idx]"
      ],
      "metadata": {
        "id": "WxnNbWL4ujxL"
      },
      "execution_count": 11,
      "outputs": []
    },
    {
      "cell_type": "code",
      "source": [
        "class SimpleEEGNet(nn.Module):\n",
        "    def __init__(self, num_classes=4):\n",
        "        super(SimpleEEGNet, self).__init__()\n",
        "        self.net = nn.Sequential(\n",
        "            nn.Conv1d(15, 32, kernel_size=5, stride=1, padding=2),\n",
        "            nn.ReLU(),\n",
        "            nn.MaxPool1d(kernel_size=2),\n",
        "\n",
        "            nn.Conv1d(32, 64, kernel_size=5, stride=1, padding=2),\n",
        "            nn.ReLU(),\n",
        "            nn.MaxPool1d(kernel_size=2),\n",
        "\n",
        "            nn.Flatten(),\n",
        "            nn.Linear(64 * 62, 128),\n",
        "            nn.ReLU(),\n",
        "            nn.Linear(128, num_classes)\n",
        "        )\n",
        "\n",
        "    def forward(self, x):\n",
        "        return self.net(x)"
      ],
      "metadata": {
        "id": "p3jt6_b3vvWV"
      },
      "execution_count": 16,
      "outputs": []
    },
    {
      "cell_type": "code",
      "source": [
        "X_train, X_test, y_train, y_test = train_test_split(X, y, test_size=0.25, random_state=42)\n",
        "\n",
        "train_dataset = EEGDataset(X_train, y_train)\n",
        "test_dataset = EEGDataset(X_test, y_test)\n",
        "train_loader = DataLoader(train_dataset, batch_size=32, shuffle=True)\n",
        "test_loader = DataLoader(test_dataset, batch_size=32)"
      ],
      "metadata": {
        "id": "_2OrJSWyxgRb"
      },
      "execution_count": 17,
      "outputs": []
    },
    {
      "cell_type": "code",
      "source": [
        "device = torch.device('cuda' if torch.cuda.is_available() else 'cpu')"
      ],
      "metadata": {
        "id": "0XkOTo49EGuD"
      },
      "execution_count": 18,
      "outputs": []
    },
    {
      "cell_type": "code",
      "source": [
        "model = SimpleEEGNet(num_classes=4).to(device)\n",
        "criterion = nn.CrossEntropyLoss()\n",
        "optimizer = optim.Adam(model.parameters(), lr=0.001)\n",
        "\n",
        "for epoch in range(10):\n",
        "    model.train()\n",
        "    total_loss = 0\n",
        "    for batch_X, batch_y in train_loader:\n",
        "        batch_X, batch_y = batch_X.to(device), batch_y.to(device)\n",
        "\n",
        "        optimizer.zero_grad()\n",
        "        outputs = model(batch_X)\n",
        "        loss = criterion(outputs, batch_y)\n",
        "        loss.backward()\n",
        "        optimizer.step()\n",
        "        total_loss += loss.item()\n",
        "\n",
        "    print(f\"Epoch {epoch+1} - Loss: {total_loss:.4f}\")"
      ],
      "metadata": {
        "colab": {
          "base_uri": "https://localhost:8080/"
        },
        "id": "NJhWUwufv_XM",
        "outputId": "fcaae6fa-a86c-4b47-a53c-677eac438fdd"
      },
      "execution_count": 19,
      "outputs": [
        {
          "output_type": "stream",
          "name": "stdout",
          "text": [
            "Epoch 1 - Loss: 17.4647\n",
            "Epoch 2 - Loss: 14.6134\n",
            "Epoch 3 - Loss: 12.3322\n",
            "Epoch 4 - Loss: 9.9450\n",
            "Epoch 5 - Loss: 8.0813\n",
            "Epoch 6 - Loss: 6.2479\n",
            "Epoch 7 - Loss: 5.2058\n",
            "Epoch 8 - Loss: 4.4547\n",
            "Epoch 9 - Loss: 3.1634\n",
            "Epoch 10 - Loss: 3.2506\n"
          ]
        }
      ]
    },
    {
      "cell_type": "code",
      "source": [
        "model.eval()\n",
        "all_preds = []\n",
        "all_labels = []\n",
        "\n",
        "with torch.no_grad():\n",
        "    for batch_X, batch_y in test_loader:\n",
        "        batch_X = batch_X.to(device)\n",
        "        outputs = model(batch_X)\n",
        "        preds = torch.argmax(outputs, dim=1).cpu().numpy()\n",
        "        all_preds.extend(preds)\n",
        "        all_labels.extend(batch_y.numpy())\n",
        "\n",
        "acc = accuracy_score(all_labels, all_preds)\n",
        "print(f\"Test Accuracy: {acc:.2%}\")"
      ],
      "metadata": {
        "colab": {
          "base_uri": "https://localhost:8080/"
        },
        "id": "u8bxOrSTwFcc",
        "outputId": "edc61c1e-dd26-4944-ddeb-710125bb20af"
      },
      "execution_count": 20,
      "outputs": [
        {
          "output_type": "stream",
          "name": "stdout",
          "text": [
            "Test Accuracy: 76.92%\n"
          ]
        }
      ]
    },
    {
      "cell_type": "markdown",
      "source": [
        "# LSTM"
      ],
      "metadata": {
        "id": "qCWoJgUACNOB"
      }
    },
    {
      "cell_type": "code",
      "source": [
        "class EEG_LSTM(nn.Module):\n",
        "    def __init__(self, input_size=16, hidden_size=64, num_layers=2, num_classes=4):\n",
        "        super(EEG_LSTM, self).__init__()\n",
        "        self.lstm = nn.LSTM(\n",
        "            input_size=input_size,\n",
        "            hidden_size=hidden_size,\n",
        "            num_layers=num_layers,\n",
        "            batch_first=True,\n",
        "            bidirectional=False\n",
        "        )\n",
        "        self.fc = nn.Sequential(\n",
        "            nn.Linear(hidden_size, 64),\n",
        "            nn.ReLU(),\n",
        "            nn.Linear(64, num_classes)\n",
        "        )\n",
        "\n",
        "    def forward(self, x):\n",
        "        out, _ = self.lstm(x)\n",
        "        out = out[:, -1, :]\n",
        "        return self.fc(out)\n"
      ],
      "metadata": {
        "id": "8BmNd6xVxcyH"
      },
      "execution_count": 21,
      "outputs": []
    },
    {
      "cell_type": "code",
      "source": [
        "class EEGDataset(Dataset):\n",
        "    def __init__(self, X, y):\n",
        "        self.X = torch.tensor(X, dtype=torch.float32)\n",
        "        self.y = torch.tensor(y, dtype=torch.long)\n",
        "\n",
        "    def __len__(self):\n",
        "        return len(self.X)\n",
        "\n",
        "    def __getitem__(self, idx):\n",
        "        return self.X[idx], self.y[idx]"
      ],
      "metadata": {
        "id": "f1KOEMA7CIij"
      },
      "execution_count": 22,
      "outputs": []
    },
    {
      "cell_type": "code",
      "source": [
        "X_train, X_test, y_train, y_test = train_test_split(X, y, test_size=0.25, random_state=42)\n",
        "\n",
        "train_dataset = EEGDataset(X_train, y_train)\n",
        "test_dataset = EEGDataset(X_test, y_test)\n",
        "train_loader = DataLoader(train_dataset, batch_size=32, shuffle=True)\n",
        "test_loader = DataLoader(test_dataset, batch_size=32)"
      ],
      "metadata": {
        "id": "9N2TxT2xCL7A"
      },
      "execution_count": 23,
      "outputs": []
    },
    {
      "cell_type": "code",
      "source": [
        "model = EEG_LSTM(input_size=15, hidden_size=128).to(device)\n",
        "criterion = nn.CrossEntropyLoss()\n",
        "optimizer = torch.optim.Adam(model.parameters(), lr=0.0005)"
      ],
      "metadata": {
        "id": "HS7gD7m6x4jP"
      },
      "execution_count": 24,
      "outputs": []
    },
    {
      "cell_type": "code",
      "source": [
        "train_losses = []\n",
        "\n",
        "for epoch in range(200):\n",
        "    model.train()\n",
        "    running_train_loss = 0\n",
        "    for batch_X, batch_y in train_loader:\n",
        "        batch_X, batch_y = batch_X.to(device), batch_y.to(device)\n",
        "\n",
        "        optimizer.zero_grad()\n",
        "        outputs = model(batch_X)\n",
        "        loss = criterion(outputs, batch_y)\n",
        "        loss.backward()\n",
        "        optimizer.step()\n",
        "        running_train_loss += loss.item()\n",
        "\n",
        "    train_losses.append(running_train_loss)\n",
        "    if epoch % 5 == 0:\n",
        "      print(f\"Epoch {epoch+1:02d} | Train Loss: {running_train_loss:.4f}\")"
      ],
      "metadata": {
        "colab": {
          "base_uri": "https://localhost:8080/"
        },
        "id": "vaPHq_uByBq8",
        "outputId": "12d284d5-4d08-48fb-882d-00697c68e528"
      },
      "execution_count": 25,
      "outputs": [
        {
          "output_type": "stream",
          "name": "stdout",
          "text": [
            "Epoch 01 | Train Loss: 18.0310\n",
            "Epoch 06 | Train Loss: 15.5909\n",
            "Epoch 11 | Train Loss: 13.7279\n",
            "Epoch 16 | Train Loss: 12.9392\n",
            "Epoch 21 | Train Loss: 11.5032\n",
            "Epoch 26 | Train Loss: 15.3045\n",
            "Epoch 31 | Train Loss: 14.0253\n",
            "Epoch 36 | Train Loss: 13.9609\n",
            "Epoch 41 | Train Loss: 14.2192\n",
            "Epoch 46 | Train Loss: 13.8446\n",
            "Epoch 51 | Train Loss: 13.6042\n",
            "Epoch 56 | Train Loss: 13.7562\n",
            "Epoch 61 | Train Loss: 14.2625\n",
            "Epoch 66 | Train Loss: 12.8363\n",
            "Epoch 71 | Train Loss: 12.9042\n",
            "Epoch 76 | Train Loss: 16.3008\n",
            "Epoch 81 | Train Loss: 15.0159\n",
            "Epoch 86 | Train Loss: 15.3805\n",
            "Epoch 91 | Train Loss: 15.0551\n",
            "Epoch 96 | Train Loss: 14.8093\n",
            "Epoch 101 | Train Loss: 14.6177\n",
            "Epoch 106 | Train Loss: 15.3064\n",
            "Epoch 111 | Train Loss: 13.4232\n",
            "Epoch 116 | Train Loss: 14.5207\n",
            "Epoch 121 | Train Loss: 12.7520\n",
            "Epoch 126 | Train Loss: 12.1950\n",
            "Epoch 131 | Train Loss: 14.4877\n",
            "Epoch 136 | Train Loss: 13.6603\n",
            "Epoch 141 | Train Loss: 13.6852\n",
            "Epoch 146 | Train Loss: 17.0291\n",
            "Epoch 151 | Train Loss: 17.1908\n",
            "Epoch 156 | Train Loss: 17.1196\n",
            "Epoch 161 | Train Loss: 16.9992\n",
            "Epoch 166 | Train Loss: 14.4269\n",
            "Epoch 171 | Train Loss: 13.2105\n",
            "Epoch 176 | Train Loss: 11.8044\n",
            "Epoch 181 | Train Loss: 9.6080\n",
            "Epoch 186 | Train Loss: 8.3759\n",
            "Epoch 191 | Train Loss: 8.4703\n",
            "Epoch 196 | Train Loss: 7.9411\n"
          ]
        }
      ]
    },
    {
      "cell_type": "code",
      "source": [
        "model.eval()\n",
        "all_preds = []\n",
        "all_labels = []\n",
        "\n",
        "with torch.no_grad():\n",
        "    for batch_X, batch_y in test_loader:\n",
        "        batch_X = batch_X.to(device)\n",
        "        outputs = model(batch_X)\n",
        "        preds = torch.argmax(outputs, dim=1).cpu().numpy()\n",
        "        all_preds.extend(preds)\n",
        "        all_labels.extend(batch_y.numpy())\n",
        "\n",
        "acc = accuracy_score(all_labels, all_preds)\n",
        "print(f\"Test Accuracy: {acc:.2%}\")"
      ],
      "metadata": {
        "colab": {
          "base_uri": "https://localhost:8080/"
        },
        "id": "nRFikp7iyCDN",
        "outputId": "184c8bd5-1ebd-41a6-eab3-96313b72d8a0"
      },
      "execution_count": 26,
      "outputs": [
        {
          "output_type": "stream",
          "name": "stdout",
          "text": [
            "Test Accuracy: 60.77%\n"
          ]
        }
      ]
    },
    {
      "cell_type": "markdown",
      "source": [
        "# GRU"
      ],
      "metadata": {
        "id": "ZRp-BadGMjBq"
      }
    },
    {
      "cell_type": "code",
      "source": [
        "class EEG_GRU(nn.Module):\n",
        "    def __init__(self, input_size=16, hidden_size=64, num_layers=2, num_classes=4, dropout=0.3):\n",
        "        super(EEG_GRU, self).__init__()\n",
        "        self.gru = nn.GRU(\n",
        "            input_size=input_size,\n",
        "            hidden_size=hidden_size,\n",
        "            num_layers=num_layers,\n",
        "            dropout=dropout if num_layers > 1 else 0,\n",
        "            batch_first=True,\n",
        "            bidirectional=False\n",
        "        )\n",
        "        self.fc = nn.Sequential(\n",
        "            nn.Linear(hidden_size, 64),\n",
        "            nn.ReLU(),\n",
        "            nn.Linear(64, num_classes)\n",
        "        )\n",
        "\n",
        "    def forward(self, x):\n",
        "        out, _ = self.gru(x)\n",
        "        out = out[:, -1, :]\n",
        "        return self.fc(out)\n"
      ],
      "metadata": {
        "id": "Lva2j_GrMkXz"
      },
      "execution_count": 27,
      "outputs": []
    },
    {
      "cell_type": "code",
      "source": [
        "model = EEG_GRU(input_size=15, hidden_size=64, num_layers=2, num_classes=4).to(device)\n",
        "criterion = nn.CrossEntropyLoss()\n",
        "optimizer = torch.optim.Adam(model.parameters(), lr=0.001)"
      ],
      "metadata": {
        "id": "c5CswpSKQpjL"
      },
      "execution_count": 28,
      "outputs": []
    },
    {
      "cell_type": "code",
      "source": [
        "train_losses = []\n",
        "\n",
        "for epoch in range(100):\n",
        "    model.train()\n",
        "    running_train_loss = 0\n",
        "    for batch_X, batch_y in train_loader:\n",
        "        batch_X, batch_y = batch_X.to(device), batch_y.to(device)\n",
        "\n",
        "        optimizer.zero_grad()\n",
        "        outputs = model(batch_X)\n",
        "        loss = criterion(outputs, batch_y)\n",
        "        loss.backward()\n",
        "        optimizer.step()\n",
        "        running_train_loss += loss.item()\n",
        "\n",
        "    train_losses.append(running_train_loss)\n",
        "    if epoch % 5 == 0:\n",
        "      print(f\"Epoch {epoch+1:02d} | Train Loss: {running_train_loss:.4f}\")"
      ],
      "metadata": {
        "colab": {
          "base_uri": "https://localhost:8080/"
        },
        "id": "wpPg97PwQtBA",
        "outputId": "0b208e1f-d0a0-47ab-ecb1-5a9496096d54"
      },
      "execution_count": 29,
      "outputs": [
        {
          "output_type": "stream",
          "name": "stdout",
          "text": [
            "Epoch 01 | Train Loss: 18.0679\n",
            "Epoch 06 | Train Loss: 14.6074\n",
            "Epoch 11 | Train Loss: 12.7020\n",
            "Epoch 16 | Train Loss: 11.7048\n",
            "Epoch 21 | Train Loss: 9.9510\n",
            "Epoch 26 | Train Loss: 8.2890\n",
            "Epoch 31 | Train Loss: 13.5795\n",
            "Epoch 36 | Train Loss: 8.0382\n",
            "Epoch 41 | Train Loss: 7.4975\n",
            "Epoch 46 | Train Loss: 6.2318\n",
            "Epoch 51 | Train Loss: 3.8974\n",
            "Epoch 56 | Train Loss: 3.0130\n",
            "Epoch 61 | Train Loss: 2.8400\n",
            "Epoch 66 | Train Loss: 2.3224\n",
            "Epoch 71 | Train Loss: 3.0085\n",
            "Epoch 76 | Train Loss: 1.7138\n",
            "Epoch 81 | Train Loss: 1.8657\n",
            "Epoch 86 | Train Loss: 2.8199\n",
            "Epoch 91 | Train Loss: 1.8674\n",
            "Epoch 96 | Train Loss: 1.5930\n"
          ]
        }
      ]
    },
    {
      "cell_type": "code",
      "source": [
        "model.eval()\n",
        "all_preds = []\n",
        "all_labels = []\n",
        "\n",
        "with torch.no_grad():\n",
        "    for batch_X, batch_y in test_loader:\n",
        "        batch_X = batch_X.to(device)\n",
        "        outputs = model(batch_X)\n",
        "        preds = torch.argmax(outputs, dim=1).cpu().numpy()\n",
        "        all_preds.extend(preds)\n",
        "        all_labels.extend(batch_y.numpy())\n",
        "\n",
        "acc = accuracy_score(all_labels, all_preds)\n",
        "print(f\"Test Accuracy: {acc:.2%}\")"
      ],
      "metadata": {
        "colab": {
          "base_uri": "https://localhost:8080/"
        },
        "id": "43j2MvYlQwKC",
        "outputId": "9460c357-4462-475c-c5e6-75bfe36bfeea"
      },
      "execution_count": 30,
      "outputs": [
        {
          "output_type": "stream",
          "name": "stdout",
          "text": [
            "Test Accuracy: 80.77%\n"
          ]
        }
      ]
    },
    {
      "cell_type": "code",
      "source": [
        "torch.save({\n",
        "    'model_state_dict': model.state_dict(),\n",
        "    'input_size': 15,\n",
        "    'hidden_size': 64,\n",
        "    'num_layers': 2,\n",
        "    'num_classes': 4\n",
        "}, \"eeg_gru_checkpoint.pth\")"
      ],
      "metadata": {
        "id": "LVCaPFTsQ1qc"
      },
      "execution_count": 32,
      "outputs": []
    },
    {
      "cell_type": "markdown",
      "source": [
        "## Inference"
      ],
      "metadata": {
        "id": "vWLr5NJZ_bhA"
      }
    },
    {
      "cell_type": "code",
      "source": [
        "import numpy as np\n",
        "import torch\n",
        "import torch.nn as nn\n",
        "from scipy.signal import butter, filtfilt\n",
        "from sklearn.preprocessing import StandardScaler\n",
        "\n",
        "SAMPLING_RATE = 250\n",
        "BANDPASS_LOW = 1\n",
        "BANDPASS_HIGH = 40\n",
        "\n",
        "def bandpass_filter(data, low, high, fs):\n",
        "    b, a = butter(N=4, Wn=[low / (fs / 2), high / (fs / 2)], btype='band')\n",
        "    return filtfilt(b, a, data, axis=0)\n",
        "\n",
        "def preprocess_live_eeg(raw_window):\n",
        "    \"\"\"\n",
        "    raw_window: np.array of shape (250, 16)\n",
        "    returns: processed_window of shape (250, 15)\n",
        "    \"\"\"\n",
        "    assert raw_window.shape == (250, 16), \"Expected raw EEG shape (250, 16)\"\n",
        "\n",
        "    raw_window = np.delete(raw_window, 11, axis=1)  # → (250, 15)\n",
        "\n",
        "    filtered = bandpass_filter(raw_window, BANDPASS_LOW, BANDPASS_HIGH, SAMPLING_RATE)\n",
        "\n",
        "    scaler = StandardScaler()\n",
        "    normalized = scaler.fit_transform(filtered)\n",
        "\n",
        "    return normalized\n"
      ],
      "metadata": {
        "id": "ffzvMzOk_VRj"
      },
      "execution_count": null,
      "outputs": []
    },
    {
      "cell_type": "code",
      "source": [
        "class EEG_GRU(nn.Module):\n",
        "    def __init__(self, input_size=15, hidden_size=64, num_layers=2, num_classes=4, dropout=0.3):\n",
        "        super(EEG_GRU, self).__init__()\n",
        "        self.gru = nn.GRU(\n",
        "            input_size=input_size,\n",
        "            hidden_size=hidden_size,\n",
        "            num_layers=num_layers,\n",
        "            dropout=dropout if num_layers > 1 else 0,\n",
        "            batch_first=True\n",
        "        )\n",
        "        self.fc = nn.Sequential(\n",
        "            nn.Linear(hidden_size, 64),\n",
        "            nn.ReLU(),\n",
        "            nn.Linear(64, num_classes)\n",
        "        )\n",
        "\n",
        "    def forward(self, x):\n",
        "        out, _ = self.gru(x)\n",
        "        out = out[:, -1, :]\n",
        "        return self.fc(out)"
      ],
      "metadata": {
        "id": "NOimoJSUAKWI"
      },
      "execution_count": null,
      "outputs": []
    },
    {
      "cell_type": "code",
      "source": [
        "def inference(raw_eeg_window: np.ndarray, model_path=\"eeg_gru_model.pth\"):\n",
        "    processed = preprocess_live_eeg(raw_eeg_window)  # (250, 15)\n",
        "\n",
        "    model = EEG_GRU()\n",
        "    model.load_state_dict(torch.load(model_path, map_location='cpu'))\n",
        "    model.eval()\n",
        "\n",
        "    with torch.no_grad():\n",
        "        x = torch.tensor(processed, dtype=torch.float32).unsqueeze(0)  # (1, 250, 15)\n",
        "        output = model(x)\n",
        "        pred = torch.argmax(output, dim=1).item()\n",
        "\n",
        "    return pred\n"
      ],
      "metadata": {
        "id": "o3p9L9qPAMZk"
      },
      "execution_count": null,
      "outputs": []
    }
  ]
}